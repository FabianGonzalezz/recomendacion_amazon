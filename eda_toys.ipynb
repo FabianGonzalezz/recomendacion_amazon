{
  "nbformat": 4,
  "nbformat_minor": 0,
  "metadata": {
    "colab": {
      "provenance": [],
      "mount_file_id": "15KFieEtzMyy4KwGuB2OOLv9epqOwJtua",
      "authorship_tag": "ABX9TyNM4+9TRJ+sOfm1fJe/18+g",
      "include_colab_link": true
    },
    "kernelspec": {
      "name": "python3",
      "display_name": "Python 3"
    },
    "language_info": {
      "name": "python"
    }
  },
  "cells": [
    {
      "cell_type": "markdown",
      "metadata": {
        "id": "view-in-github",
        "colab_type": "text"
      },
      "source": [
        "<a href=\"https://colab.research.google.com/github/FabianGonzalezz/recomendacion_amazon/blob/master/eda_toys.ipynb\" target=\"_parent\"><img src=\"https://colab.research.google.com/assets/colab-badge.svg\" alt=\"Open In Colab\"/></a>"
      ]
    },
    {
      "cell_type": "code",
      "execution_count": 2,
      "metadata": {
        "colab": {
          "base_uri": "https://localhost:8080/"
        },
        "id": "po-sKUOdB6uz",
        "outputId": "0a5f28e0-7c06-4948-e194-5e3a75adcfb7"
      },
      "outputs": [
        {
          "output_type": "stream",
          "name": "stdout",
          "text": [
            "Collecting pyspark\n",
            "  Downloading pyspark-3.4.1.tar.gz (310.8 MB)\n",
            "\u001b[2K     \u001b[90m━━━━━━━━━━━━━━━━━━━━━━━━━━━━━━━━━━━━━━━\u001b[0m \u001b[32m310.8/310.8 MB\u001b[0m \u001b[31m4.5 MB/s\u001b[0m eta \u001b[36m0:00:00\u001b[0m\n",
            "\u001b[?25h  Preparing metadata (setup.py) ... \u001b[?25l\u001b[?25hdone\n",
            "Requirement already satisfied: py4j==0.10.9.7 in /usr/local/lib/python3.10/dist-packages (from pyspark) (0.10.9.7)\n",
            "Building wheels for collected packages: pyspark\n",
            "  Building wheel for pyspark (setup.py) ... \u001b[?25l\u001b[?25hdone\n",
            "  Created wheel for pyspark: filename=pyspark-3.4.1-py2.py3-none-any.whl size=311285387 sha256=4915edbc6161cbc71b71e3a3b89018f3024af94682a765ed70c9ccfbca5705d6\n",
            "  Stored in directory: /root/.cache/pip/wheels/0d/77/a3/ff2f74cc9ab41f8f594dabf0579c2a7c6de920d584206e0834\n",
            "Successfully built pyspark\n",
            "Installing collected packages: pyspark\n",
            "Successfully installed pyspark-3.4.1\n"
          ]
        }
      ],
      "source": [
        "pip install pyspark"
      ]
    },
    {
      "cell_type": "code",
      "source": [
        "from google.colab import drive"
      ],
      "metadata": {
        "id": "em3MaJO9DPIG"
      },
      "execution_count": 3,
      "outputs": []
    },
    {
      "cell_type": "code",
      "source": [
        "from pyspark.sql import SparkSession"
      ],
      "metadata": {
        "id": "68Kkqb6zCAtp"
      },
      "execution_count": 4,
      "outputs": []
    },
    {
      "cell_type": "code",
      "source": [
        "folder = 'https://drive.google.com/drive/u/0/folders/1KT0-qPYJmlr6w2o41sjJlPXCZ3SkHbN0'"
      ],
      "metadata": {
        "id": "fbCTe92uCYT5"
      },
      "execution_count": 6,
      "outputs": []
    },
    {
      "cell_type": "code",
      "source": [
        "drive.mount('/content/drive')"
      ],
      "metadata": {
        "colab": {
          "base_uri": "https://localhost:8080/"
        },
        "id": "8cQhY2S3DXfu",
        "outputId": "8a3fc985-79d7-43e7-d5e2-cb0ff6470ba3"
      },
      "execution_count": 5,
      "outputs": [
        {
          "output_type": "stream",
          "name": "stdout",
          "text": [
            "Mounted at /content/drive\n"
          ]
        }
      ]
    },
    {
      "cell_type": "code",
      "source": [
        "from pyspark.sql.types import StructType, StructField, StringType, IntegerType"
      ],
      "metadata": {
        "id": "fmoKWSTH6JZT"
      },
      "execution_count": null,
      "outputs": []
    },
    {
      "cell_type": "code",
      "source": [
        "# Crea una sesión de Spark\n",
        "spark = SparkSession.builder.appName(\"Lectura_de_Archivo\").getOrCreate()\n",
        "\n",
        "# Ruta al archivo JSON dentro de la carpeta compartida\n",
        "json_file_path = '/content/drive/My Drive/Version 2018/Toys_and_Games.json.gz'\n"
      ],
      "metadata": {
        "id": "1Mk-TxSTDxM1"
      },
      "execution_count": 10,
      "outputs": []
    },
    {
      "cell_type": "code",
      "source": [
        "from pyspark.sql.types import StructType, StructField, StringType, FloatType, IntegerType, BooleanType"
      ],
      "metadata": {
        "id": "ZBnSRVOlUx1Q"
      },
      "execution_count": 14,
      "outputs": []
    },
    {
      "cell_type": "code",
      "source": [
        "custom_schema = StructType([\n",
        "    StructField(\"asin\", StringType(), nullable=True),\n",
        "    StructField(\"image\", StringType(), nullable=True),\n",
        "    StructField(\"overall\", FloatType(), nullable=True),\n",
        "    StructField(\"reviewText\", StringType(), nullable=True),\n",
        "    StructField(\"reviewTime\", StringType(), nullable=True),\n",
        "    StructField(\"reviewerID\", StringType(), nullable=True),\n",
        "    StructField(\"reviewerName\", StringType(), nullable=True),\n",
        "    StructField(\"style\", StringType(), nullable=True),\n",
        "    StructField(\"summary\", StringType(), nullable=True),\n",
        "    StructField(\"unixReviewTime\", IntegerType(), nullable=True),\n",
        "    StructField(\"verified\", BooleanType(), nullable=True),\n",
        "    StructField(\"vote\", StringType(), nullable=True)\n",
        "])\n",
        "df = spark.read.json(json_file_path, schema=custom_schema)"
      ],
      "metadata": {
        "id": "QMvKdmd5UT5T"
      },
      "execution_count": 23,
      "outputs": []
    },
    {
      "cell_type": "code",
      "source": [
        "df.show()"
      ],
      "metadata": {
        "colab": {
          "base_uri": "https://localhost:8080/"
        },
        "id": "WpNeiLnNEP7S",
        "outputId": "c2c0d38d-b7d9-41eb-d495-98a4e6d09992"
      },
      "execution_count": 24,
      "outputs": [
        {
          "output_type": "stream",
          "name": "stdout",
          "text": [
            "+----------+--------------------+-------+--------------------+-----------+--------------+--------------------+--------------------+--------------------+--------------+--------+----+\n",
            "|      asin|               image|overall|          reviewText| reviewTime|    reviewerID|        reviewerName|               style|             summary|unixReviewTime|verified|vote|\n",
            "+----------+--------------------+-------+--------------------+-----------+--------------+--------------------+--------------------+--------------------+--------------+--------+----+\n",
            "|0020232233|                null|    2.0|When it comes to ...|09 22, 2016|A1IDMI31WEANAF|      Mackenzie Kent|                null|The fact that 50%...|    1474502400|   false|  12|\n",
            "|0020232233|                null|    1.0|An Open Letter to...|09 18, 2016| A4BCEVVZ4Y3V3|  Jonathan Christian|                null|Another worthless...|    1474156800|   false|  21|\n",
            "|0020232233|                null|    3.0|Nice art, nice pr...|09 12, 2016|A2EZ9PY1IHHBX0|     unpreparedtodie|                null|pretty, but also ...|    1473638400|    true|  19|\n",
            "|0020232233|                null|    5.0|Amazing buy! Boug...| 03 2, 2017|A139PXTTC2LGHZ|              Ashley|                null|          Five Stars|    1488412800|    true|null|\n",
            "|0020232233|                null|    1.0|As my review of G...| 02 8, 2017|A3IB33V29XIL8O|            Oghma_EM|                null|          Money trap|    1486512000|    true|   3|\n",
            "|0020232233|                null|    5.0|      Grandson loves|01 27, 2017|A1J86V48S4KRJE|  Cynthia A. Evoniuk|                null|          Five Stars|    1485475200|    true|null|\n",
            "|0020232233|                null|    5.0|I have bought man...| 01 2, 2017|A14J12PRBLGHF4|     Amazon Customer|                null| Best gm screen ever|    1483315200|   false|null|\n",
            "|0020232233|                null|    5.0|Came in perfect c...|12 17, 2016|A2UKOWP9ICU416|            anon9df0|                null|          Five Stars|    1481932800|    true|null|\n",
            "|0020232233|                null|    4.0|Could be better b...|12 15, 2016|A2ONKKDETRWT79|        Consumer Dad|                null|Great but could b...|    1481760000|   false|null|\n",
            "|0020232233|[\"https://images-...|    3.0|My review will mi...| 12 9, 2016| AK9GN9KZZNTEP| Dallas Gamer Family|                null|Another missed op...|    1481241600|    true|  13|\n",
            "|0020232233|                null|    5.0|     Works very well| 12 7, 2016|A26HO01PDWN6O5|     Amazon Customer|                null|          Five Stars|    1481068800|    true|null|\n",
            "|0020232233|                null|    5.0|Can't wait to use...| 11 5, 2016| A8PF4X87CS3ZZ|          B. Felkins|                null|       Love the map!|    1478304000|    true|null|\n",
            "|0020232233|                null|    5.0|This is a campaig...| 11 4, 2016|A28QGCUNS22JPH|Daniel Gabriel Ho...|                null|Not a general DM ...|    1478217600|   false|   2|\n",
            "|038536539X|                null|    2.0|This is one of th...|04 24, 2017|A2X2RJWNAV4FM0|            J Person|                null|      Very weak game|    1492992000|   false|   3|\n",
            "|038536539X|                null|    2.0|It sounded like a...|04 17, 2017|A1DIRJ8YNI5TKL|             ZacWolf|                null|Fell completely f...|    1492387200|    true|   6|\n",
            "|038536539X|                null|    5.0|Very fun game for...|01 26, 2017|A2G5IDD919P2DK|  Marcy A. Danenmann|                null|          Five Stars|    1485388800|    true|null|\n",
            "|0486277577|                null|    4.0|Pretty good book ...|03 16, 2004| AGCAAWP1AVVZR|       M. P. Schiesl|{\"Format:\":\" Pape...|           Good book|    1079395200|   false|  13|\n",
            "|0486277577|                null|    5.0|When I unexpected...|04 28, 2002| AD2CIUI4TSVY7|         Mark Thomas|{\"Format:\":\" Pape...|Buckley was a car...|    1019952000|   false|  16|\n",
            "|0486277577|                null|    5.0|If you've mastere...| 08 3, 2001| APTEPFKL03QA0|Christian A. Fisa...|{\"Format:\":\" Pape...|Very advanced, bu...|     996796800|   false|  14|\n",
            "|0486277577|                null|    5.0|I've yet to see a...|10 15, 2000|A14FXEKB1PXTZG|         Jose Berlin|{\"Format:\":\" Pape...|You better know w...|     971568000|   false|  21|\n",
            "+----------+--------------------+-------+--------------------+-----------+--------------+--------------------+--------------------+--------------------+--------------+--------+----+\n",
            "only showing top 20 rows\n",
            "\n"
          ]
        }
      ]
    },
    {
      "cell_type": "code",
      "source": [
        "df.count()"
      ],
      "metadata": {
        "colab": {
          "base_uri": "https://localhost:8080/"
        },
        "id": "n2k7KR6GW4up",
        "outputId": "420b7473-3bda-4312-d73d-187a27498416"
      },
      "execution_count": 18,
      "outputs": [
        {
          "output_type": "execute_result",
          "data": {
            "text/plain": [
              "8201231"
            ]
          },
          "metadata": {},
          "execution_count": 18
        }
      ]
    },
    {
      "cell_type": "code",
      "source": [
        "from pyspark.sql.functions import from_unixtime, year"
      ],
      "metadata": {
        "id": "OltUi9jWXxXU"
      },
      "execution_count": 26,
      "outputs": []
    },
    {
      "cell_type": "markdown",
      "source": [
        "# Convertir unixtime en tiempo y extraer el anio para realizar el filtrado"
      ],
      "metadata": {
        "id": "yHmvgYH6ZA68"
      }
    },
    {
      "cell_type": "code",
      "source": [
        "df = df.withColumn(\"review_date\", from_unixtime(df[\"unixreviewtime\"]))"
      ],
      "metadata": {
        "id": "UJ6J-WMVYV_d"
      },
      "execution_count": 27,
      "outputs": []
    },
    {
      "cell_type": "code",
      "source": [
        "df = df.withColumn(\"review_year\", year(df[\"review_date\"]))"
      ],
      "metadata": {
        "id": "tRVdCTs2Ylak"
      },
      "execution_count": 29,
      "outputs": []
    },
    {
      "cell_type": "code",
      "source": [
        "df = df.drop(\"review_date\", \"unixreviewtime\", 'reviewTime')"
      ],
      "metadata": {
        "id": "qwWWFtg3Yw1L"
      },
      "execution_count": 30,
      "outputs": []
    },
    {
      "cell_type": "code",
      "source": [
        "df.show()"
      ],
      "metadata": {
        "colab": {
          "base_uri": "https://localhost:8080/"
        },
        "id": "RPtGkVsmXy3l",
        "outputId": "e8fedd81-7c6c-4d6b-a612-113823b77516"
      },
      "execution_count": 31,
      "outputs": [
        {
          "output_type": "stream",
          "name": "stdout",
          "text": [
            "+----------+--------------------+-------+--------------------+--------------+--------------------+--------------------+--------------------+--------+----+-----------+\n",
            "|      asin|               image|overall|          reviewText|    reviewerID|        reviewerName|               style|             summary|verified|vote|review_year|\n",
            "+----------+--------------------+-------+--------------------+--------------+--------------------+--------------------+--------------------+--------+----+-----------+\n",
            "|0020232233|                null|    2.0|When it comes to ...|A1IDMI31WEANAF|      Mackenzie Kent|                null|The fact that 50%...|   false|  12|       2016|\n",
            "|0020232233|                null|    1.0|An Open Letter to...| A4BCEVVZ4Y3V3|  Jonathan Christian|                null|Another worthless...|   false|  21|       2016|\n",
            "|0020232233|                null|    3.0|Nice art, nice pr...|A2EZ9PY1IHHBX0|     unpreparedtodie|                null|pretty, but also ...|    true|  19|       2016|\n",
            "|0020232233|                null|    5.0|Amazing buy! Boug...|A139PXTTC2LGHZ|              Ashley|                null|          Five Stars|    true|null|       2017|\n",
            "|0020232233|                null|    1.0|As my review of G...|A3IB33V29XIL8O|            Oghma_EM|                null|          Money trap|    true|   3|       2017|\n",
            "|0020232233|                null|    5.0|      Grandson loves|A1J86V48S4KRJE|  Cynthia A. Evoniuk|                null|          Five Stars|    true|null|       2017|\n",
            "|0020232233|                null|    5.0|I have bought man...|A14J12PRBLGHF4|     Amazon Customer|                null| Best gm screen ever|   false|null|       2017|\n",
            "|0020232233|                null|    5.0|Came in perfect c...|A2UKOWP9ICU416|            anon9df0|                null|          Five Stars|    true|null|       2016|\n",
            "|0020232233|                null|    4.0|Could be better b...|A2ONKKDETRWT79|        Consumer Dad|                null|Great but could b...|   false|null|       2016|\n",
            "|0020232233|[\"https://images-...|    3.0|My review will mi...| AK9GN9KZZNTEP| Dallas Gamer Family|                null|Another missed op...|    true|  13|       2016|\n",
            "|0020232233|                null|    5.0|     Works very well|A26HO01PDWN6O5|     Amazon Customer|                null|          Five Stars|    true|null|       2016|\n",
            "|0020232233|                null|    5.0|Can't wait to use...| A8PF4X87CS3ZZ|          B. Felkins|                null|       Love the map!|    true|null|       2016|\n",
            "|0020232233|                null|    5.0|This is a campaig...|A28QGCUNS22JPH|Daniel Gabriel Ho...|                null|Not a general DM ...|   false|   2|       2016|\n",
            "|038536539X|                null|    2.0|This is one of th...|A2X2RJWNAV4FM0|            J Person|                null|      Very weak game|   false|   3|       2017|\n",
            "|038536539X|                null|    2.0|It sounded like a...|A1DIRJ8YNI5TKL|             ZacWolf|                null|Fell completely f...|    true|   6|       2017|\n",
            "|038536539X|                null|    5.0|Very fun game for...|A2G5IDD919P2DK|  Marcy A. Danenmann|                null|          Five Stars|    true|null|       2017|\n",
            "|0486277577|                null|    4.0|Pretty good book ...| AGCAAWP1AVVZR|       M. P. Schiesl|{\"Format:\":\" Pape...|           Good book|   false|  13|       2004|\n",
            "|0486277577|                null|    5.0|When I unexpected...| AD2CIUI4TSVY7|         Mark Thomas|{\"Format:\":\" Pape...|Buckley was a car...|   false|  16|       2002|\n",
            "|0486277577|                null|    5.0|If you've mastere...| APTEPFKL03QA0|Christian A. Fisa...|{\"Format:\":\" Pape...|Very advanced, bu...|   false|  14|       2001|\n",
            "|0486277577|                null|    5.0|I've yet to see a...|A14FXEKB1PXTZG|         Jose Berlin|{\"Format:\":\" Pape...|You better know w...|   false|  21|       2000|\n",
            "+----------+--------------------+-------+--------------------+--------------+--------------------+--------------------+--------------------+--------+----+-----------+\n",
            "only showing top 20 rows\n",
            "\n"
          ]
        }
      ]
    },
    {
      "cell_type": "markdown",
      "source": [
        "# Filtrado del df entre 2004 y 2014"
      ],
      "metadata": {
        "id": "PbTn4lwGZIe3"
      }
    },
    {
      "cell_type": "code",
      "source": [
        "# Filtrar las filas para incluir solo los años entre 2004 y 2014\n",
        "df_filtrado = df.filter((df[\"review_year\"] >= 2004) & (df[\"review_year\"] <= 2014))"
      ],
      "metadata": {
        "id": "uTey04E-ZIJo"
      },
      "execution_count": 32,
      "outputs": []
    },
    {
      "cell_type": "code",
      "source": [
        "df_filtrado.count()"
      ],
      "metadata": {
        "colab": {
          "base_uri": "https://localhost:8080/"
        },
        "id": "dvtxoQxIZSpg",
        "outputId": "9f128291-f308-4e00-ec4b-8c1e26200969"
      },
      "execution_count": 34,
      "outputs": [
        {
          "output_type": "execute_result",
          "data": {
            "text/plain": [
              "2393317"
            ]
          },
          "metadata": {},
          "execution_count": 34
        }
      ]
    },
    {
      "cell_type": "markdown",
      "source": [
        "# Al filtrar entre 2004 y 2014 pasamos de 8M de registros a 2M de regsitros."
      ],
      "metadata": {
        "id": "0Rc2RTHDZu-Y"
      }
    },
    {
      "cell_type": "markdown",
      "source": [
        "# No vemos outliers en la columna overall"
      ],
      "metadata": {
        "id": "mE2LFqcibjVE"
      }
    },
    {
      "cell_type": "code",
      "source": [
        "df_filtrado.select('overall').distinct().show()"
      ],
      "metadata": {
        "colab": {
          "base_uri": "https://localhost:8080/"
        },
        "id": "3gyxpGc-Z0ip",
        "outputId": "a44f6483-56cc-4e97-dc5f-8e8487538d33"
      },
      "execution_count": 36,
      "outputs": [
        {
          "output_type": "stream",
          "name": "stdout",
          "text": [
            "+-------+\n",
            "|overall|\n",
            "+-------+\n",
            "|    5.0|\n",
            "|    2.0|\n",
            "|    3.0|\n",
            "|    1.0|\n",
            "|    4.0|\n",
            "+-------+\n",
            "\n"
          ]
        }
      ]
    },
    {
      "cell_type": "code",
      "source": [
        "df_meta = spark.read.json('/content/drive/My Drive/Version 2018/meta_Toys_and_Games.json.gz')"
      ],
      "metadata": {
        "id": "NB3P8DH9bcvz"
      },
      "execution_count": 37,
      "outputs": []
    },
    {
      "cell_type": "code",
      "source": [
        "df_meta.show()"
      ],
      "metadata": {
        "colab": {
          "base_uri": "https://localhost:8080/"
        },
        "id": "NqHpIaJMcF5u",
        "outputId": "47377246-fd0b-4d81-bd23-9ce066257a0d"
      },
      "execution_count": 38,
      "outputs": [
        {
          "output_type": "stream",
          "name": "stdout",
          "text": [
            "+--------------------+--------------------+----------+--------------------+--------------------+----+--------------------+-------+--------------------+---+--------------------+--------------------+------------+--------------------+--------------------+--------------------+-----+-----+--------------------+\n",
            "|            also_buy|           also_view|      asin|               brand|            category|date|         description|details|             feature|fit|            imageURL|     imageURLHighRes|    main_cat|               price|                rank|        similar_item|tech1|tech2|               title|\n",
            "+--------------------+--------------------+----------+--------------------+--------------------+----+--------------------+-------+--------------------+---+--------------------+--------------------+------------+--------------------+--------------------+--------------------+-----+-----+--------------------+\n",
            "|                  []|                  []|0000191639|           Dr. Seuss|[Toys & Games, Pu...|    |[Three Dr. Suess'...|   null|[Three giant floo...|   |[https://images-n...|[https://images-n...|Toys & Games|                    |[\">#2,230,717 in ...|                    |     |     |Dr. Suess 19163 D...|\n",
            "|                  []|                  []|0004950763|Pathfinder Rolepl...|                  []|    |[<b>Prepare to be...|   null|                  []|   |                  []|                  []|Toys & Games|.a-box-inner{back...|[\">#2,294,535 in ...|                    |     |     |Pathfinder: Book ...|\n",
            "|                  []|                  []|0005069491|        Betty Lukens|                  []|    |                  []|   null|                  []|   |                  []|                  []|Toys & Games|.a-box-inner{back...|[\">#2,871,983 in ...|                    |     |     |Nursery Rhymes Fe...|\n",
            "|        [B00WIIPQEC]|[B000BBU0KS, B00N...|0004983289|Dutch Blitz Games Co|[Toys & Games, Ga...|    |[Blitz Vintage Ca...|   null|                  []|   |                  []|                  []|Toys & Games|              $24.95|[\">#376,337 in To...| class=\"a-bordere...|     |     |Dutch Blitz Card ...|\n",
            "|[B009SB7TI8, B009...|                  []|0006466222|    Lee Publications|                  []|    |[Marvel SuperHero...|   null|                  []|   |                  []|                  []|Toys & Games|               $4.92|[\">#934,954 in To...|                    |     |     |Magic Pen Paintin...|\n",
            "|[0786966009, 1945...|[0786966009, B01L...|0020232233|     Gale Force Nine|[Toys & Games, Gr...|    |[This screen is t...|   null|[This screen is t...|   |[https://images-n...|[https://images-n...|Toys & Games|              $13.50|[\">#178,217 in To...| class=\"a-bordere...|     |     |Dungeons &amp; Dr...|\n",
            "|                  []|                  []|0096737581|            Num Noms|[Toys & Games, Ar...|    |[Holds 24+ nom nu...|   null|[14 inches wide b...|   |[https://images-n...|[https://images-n...|Toys & Games|                    |[\">#989,767 in To...|                    |     |     |NUM NOMS figures ...|\n",
            "|                  []|                  []|014002316X|                 UDI|[Toys & Games, To...|    |[This U806 is the...|   null|[Includes 3.7 vol...|   |[https://images-n...|[https://images-n...|Toys & Games|                    |[\">#3,687,991 in ...|                    |     |     |UDI U806 Infrared...|\n",
            "|                  []|                  []|0152014764|         Design Farm|                  []|    |                  []|   null|[8-1/2\" wing span...|   |                  []|                  []|Toys & Games|                    |[\">#3,947,818 in ...|                    |     |     |Stellaluna Finger...|\n",
            "|                  []|                  []|019848710X|    Oxford Ort Packs|                  []|    |[Numicon builds a...|   null|[<span>\\n        ...|   |[https://images-n...|[https://images-n...|Toys & Games|              $35.09|[\">#3,449,118 in ...|                    |     |     |Oxford Ort Packs ...|\n",
            "|                  []|                  []|0198487126|Oxford University...|                  []|    |[These stacking, ...|   null|                  []|   |                  []|                  []|Toys & Games|              $28.81|[\">#1,701,474 in ...|                    |     |     |Oxford University...|\n",
            "|                  []|                  []|0298771357|               Taito|                  []|    |            [<br />]|   null|                  []|   |                  []|                  []|Toys & Games|                    |[\">#2,284,447 in ...|                    |     |     |Taito - Peluche D...|\n",
            "|                  []|                  []|0298772221|               Furyu|                  []|    |                  []|   null|                  []|   |                  []|                  []|Toys & Games|              $34.99|[\">#1,615,208 in ...|                    |     |     |Nemuneko Big Plus...|\n",
            "|                  []|        [0298752549]|0298752530|               Amuse|                  []|    |                  []|   null|                  []|   |[https://images-n...|[https://images-n...|Toys & Games|              $74.99|[\">#1,764,465 in ...|                    |     |     |Zou no Pororon Bi...|\n",
            "|                  []|                  []|0298752697|               Eikoh|                  []|    |                  []|   null|                  []|   |                  []|                  []|Toys & Games|                    |[\">#2,246,880 in ...|                    |     |     |Touken Ranbu Onli...|\n",
            "|                  []|                  []|0298770415|           Banpresto|                  []|    |                  []|   null|                  []|   |                  []|                  []|Toys & Games|                    |[\">#1,625,532 in ...|                    |     |     |Pokemon XY Korott...|\n",
            "|                  []|                  []|0298770377|           Banpresto|[Toys & Games, St...|    |                  []|   null|                  []|   |                  []|                  []|Toys & Games|                    |[\">#1,729,890 in ...|                    |     |     |Pokemon XY Korott...|\n",
            "|[029877187X, 0298...|[B07GZLD9L5, B01L...|0298771861|                Sega|[Toys & Games, St...|    |                  []|   null|[Officially Licen...|   |                  []|                  []|Toys & Games|                    |[\">#361,527 in To...| class=\"a-bordere...|     |     |Sega Love Live Sc...|\n",
            "|[B074GV3RVT, B00Q...|[B00L9OYWJQ, B00I...|0298765705|                Sega|[Toys & Games, Ac...|    |                  []|   null|[Officially Licen...|   |                  []|                  []|Toys & Games|              $32.50|[\">#550,503 in To...| class=\"a-bordere...|     |     |Sega Love, Chunib...|\n",
            "|[B00N60XWYM, B00T...|[B00TPYAQYM, B00M...|0298770504|               Furyu|[Toys & Games, Ac...|    |                  []|   null|                  []|   |                  []|                  []|Toys & Games|              $15.34|[\">#422,996 in To...| class=\"a-bordere...|     |     |Furyu 6.7&quot; L...|\n",
            "+--------------------+--------------------+----------+--------------------+--------------------+----+--------------------+-------+--------------------+---+--------------------+--------------------+------------+--------------------+--------------------+--------------------+-----+-----+--------------------+\n",
            "only showing top 20 rows\n",
            "\n"
          ]
        }
      ]
    }
  ]
}